{
 "cells": [
  {
   "cell_type": "markdown",
   "metadata": {},
   "source": [
    "# Diabetic Retinopathy Detection Using Python"
   ]
  },
  {
   "cell_type": "markdown",
   "metadata": {},
   "source": [
    "Importing Nessesary libraries and modules from the local python environment"
   ]
  },
  {
   "cell_type": "code",
   "execution_count": 4,
   "metadata": {},
   "outputs": [],
   "source": [
    "from scipy import misc\n",
    "from PIL import Image\n",
    "from skimage import exposure\n",
    "from sklearn import svm\n",
    "\n",
    "import scipy\n",
    "from math import sqrt,pi\n",
    "from numpy import exp\n",
    "from matplotlib import pyplot as plt\n",
    "import numpy as np\n",
    "import glob\n",
    "import matplotlib.pyplot as pltss\n",
    "import cv2\n",
    "from matplotlib import cm\n",
    "import pandas as pd\n",
    "from math import pi, sqrt\n",
    "import pywt\n",
    "\n"
   ]
  },
  {
   "cell_type": "markdown",
   "metadata": {},
   "source": [
    "# Pre-processing"
   ]
  },
  {
   "cell_type": "markdown",
   "metadata": {},
   "source": [
    "Loading Images and converting them to grey-Scale followed by adaptive hstogram equilisation\n",
    "the final image matrix is stored in 1-D format to a new 2-D array"
   ]
  },
  {
   "cell_type": "code",
   "execution_count": 12,
   "metadata": {},
   "outputs": [
    {
     "name": "stdout",
     "output_type": "stream",
     "text": [
      "../Datasets/resized_train/resized_train001.png\n"
     ]
    },
    {
     "ename": "error",
     "evalue": "OpenCV(4.6.0) D:\\a\\opencv-python\\opencv-python\\opencv\\modules\\imgproc\\src\\color.cpp:182: error: (-215:Assertion failed) !_src.empty() in function 'cv::cvtColor'\n",
     "output_type": "error",
     "traceback": [
      "\u001b[1;31m---------------------------------------------------------------------------\u001b[0m",
      "\u001b[1;31merror\u001b[0m                                     Traceback (most recent call last)",
      "\u001b[1;32m<ipython-input-12-3a7bfdb7db8d>\u001b[0m in \u001b[0;36m<module>\u001b[1;34m\u001b[0m\n\u001b[0;32m     13\u001b[0m     \u001b[0mimg\u001b[0m \u001b[1;33m=\u001b[0m \u001b[0mcv2\u001b[0m\u001b[1;33m.\u001b[0m\u001b[0mimread\u001b[0m\u001b[1;33m(\u001b[0m\u001b[0mimg_pt\u001b[0m\u001b[1;33m)\u001b[0m\u001b[1;33m\u001b[0m\u001b[1;33m\u001b[0m\u001b[0m\n\u001b[0;32m     14\u001b[0m     \u001b[1;31m#im_unpre.append(np.array(img).flatten())\u001b[0m\u001b[1;33m\u001b[0m\u001b[1;33m\u001b[0m\u001b[1;33m\u001b[0m\u001b[0m\n\u001b[1;32m---> 15\u001b[1;33m     \u001b[0mimg_gray\u001b[0m \u001b[1;33m=\u001b[0m \u001b[0mcv2\u001b[0m\u001b[1;33m.\u001b[0m\u001b[0mcvtColor\u001b[0m\u001b[1;33m(\u001b[0m\u001b[0mimg\u001b[0m\u001b[1;33m,\u001b[0m \u001b[0mcv2\u001b[0m\u001b[1;33m.\u001b[0m\u001b[0mCOLOR_BGR2GRAY\u001b[0m\u001b[1;33m)\u001b[0m\u001b[1;33m\u001b[0m\u001b[1;33m\u001b[0m\u001b[0m\n\u001b[0m\u001b[0;32m     16\u001b[0m     \u001b[0mequ\u001b[0m \u001b[1;33m=\u001b[0m \u001b[0mcv2\u001b[0m\u001b[1;33m.\u001b[0m\u001b[0mequalizeHist\u001b[0m\u001b[1;33m(\u001b[0m\u001b[0mimg_gray\u001b[0m\u001b[1;33m)\u001b[0m\u001b[1;33m\u001b[0m\u001b[1;33m\u001b[0m\u001b[0m\n\u001b[0;32m     17\u001b[0m     \u001b[0mimmatrix\u001b[0m\u001b[1;33m.\u001b[0m\u001b[0mappend\u001b[0m\u001b[1;33m(\u001b[0m\u001b[0mnp\u001b[0m\u001b[1;33m.\u001b[0m\u001b[0marray\u001b[0m\u001b[1;33m(\u001b[0m\u001b[0mequ\u001b[0m\u001b[1;33m)\u001b[0m\u001b[1;33m.\u001b[0m\u001b[0mflatten\u001b[0m\u001b[1;33m(\u001b[0m\u001b[1;33m)\u001b[0m\u001b[1;33m)\u001b[0m\u001b[1;33m\u001b[0m\u001b[1;33m\u001b[0m\u001b[0m\n",
      "\u001b[1;31merror\u001b[0m: OpenCV(4.6.0) D:\\a\\opencv-python\\opencv-python\\opencv\\modules\\imgproc\\src\\color.cpp:182: error: (-215:Assertion failed) !_src.empty() in function 'cv::cvtColor'\n"
     ]
    }
   ],
   "source": [
    "#img_rows=img_cols=200\n",
    "immatrix=[]\n",
    "im_unpre = []\n",
    "\n",
    "for i in range(1,90):\n",
    "    img_pt = r'../Datasets/resized_train/resized_train'\n",
    "    if i < 10:\n",
    "        img_pt = img_pt + \"00\" + str(i) + \".png\"\n",
    "    else:\n",
    "        img_pt = img_pt + \"0\" + str(i)+ \".png\"\n",
    "    print(img_pt)\n",
    "\n",
    "    img = cv2.imread(img_pt)\n",
    "    #im_unpre.append(np.array(img).flatten())\n",
    "    img_gray = cv2.cvtColor(img, cv2.COLOR_BGR2GRAY)\n",
    "    equ = cv2.equalizeHist(img_gray) \n",
    "    immatrix.append(np.array(equ).flatten())\n",
    "    #res = np.hstack((img_gray,equ))"
   ]
  },
  {
   "cell_type": "code",
   "execution_count": 6,
   "metadata": {},
   "outputs": [
    {
     "ename": "NameError",
     "evalue": "name 'equ' is not defined",
     "output_type": "error",
     "traceback": [
      "\u001b[1;31m---------------------------------------------------------------------------\u001b[0m",
      "\u001b[1;31mNameError\u001b[0m                                 Traceback (most recent call last)",
      "\u001b[1;32m<ipython-input-6-578692b4f0c0>\u001b[0m in \u001b[0;36m<module>\u001b[1;34m\u001b[0m\n\u001b[1;32m----> 1\u001b[1;33m \u001b[0mnp\u001b[0m\u001b[1;33m.\u001b[0m\u001b[0mshape\u001b[0m\u001b[1;33m(\u001b[0m\u001b[0mnp\u001b[0m\u001b[1;33m.\u001b[0m\u001b[0marray\u001b[0m\u001b[1;33m(\u001b[0m\u001b[0mequ\u001b[0m\u001b[1;33m)\u001b[0m\u001b[1;33m.\u001b[0m\u001b[0mflatten\u001b[0m\u001b[1;33m(\u001b[0m\u001b[1;33m)\u001b[0m\u001b[1;33m)\u001b[0m\u001b[1;33m\u001b[0m\u001b[1;33m\u001b[0m\u001b[0m\n\u001b[0m",
      "\u001b[1;31mNameError\u001b[0m: name 'equ' is not defined"
     ]
    }
   ],
   "source": [
    "np.shape(np.array(equ).flatten())"
   ]
  },
  {
   "cell_type": "markdown",
   "metadata": {},
   "source": [
    "Visualising a random image after the above steps the array contains 90 images"
   ]
  },
  {
   "cell_type": "markdown",
   "metadata": {},
   "source": [
    "The shape of the image is determined from np.shape(equ) and those values are 1152,1500"
   ]
  },
  {
   "cell_type": "code",
   "execution_count": 7,
   "metadata": {},
   "outputs": [
    {
     "ename": "NameError",
     "evalue": "name 'equ' is not defined",
     "output_type": "error",
     "traceback": [
      "\u001b[1;31m---------------------------------------------------------------------------\u001b[0m",
      "\u001b[1;31mNameError\u001b[0m                                 Traceback (most recent call last)",
      "\u001b[1;32m<ipython-input-7-010eff9e9645>\u001b[0m in \u001b[0;36m<module>\u001b[1;34m\u001b[0m\n\u001b[0;32m      1\u001b[0m \u001b[0mnp\u001b[0m\u001b[1;33m.\u001b[0m\u001b[0mshape\u001b[0m\u001b[1;33m(\u001b[0m\u001b[0mimmatrix\u001b[0m\u001b[1;33m)\u001b[0m\u001b[1;33m\u001b[0m\u001b[1;33m\u001b[0m\u001b[0m\n\u001b[1;32m----> 2\u001b[1;33m \u001b[0mnp\u001b[0m\u001b[1;33m.\u001b[0m\u001b[0mshape\u001b[0m\u001b[1;33m(\u001b[0m\u001b[0mequ\u001b[0m\u001b[1;33m)\u001b[0m\u001b[1;33m\u001b[0m\u001b[1;33m\u001b[0m\u001b[0m\n\u001b[0m\u001b[0;32m      3\u001b[0m \u001b[0mplt\u001b[0m\u001b[1;33m.\u001b[0m\u001b[0mimshow\u001b[0m\u001b[1;33m(\u001b[0m\u001b[0mimmatrix\u001b[0m\u001b[1;33m[\u001b[0m\u001b[1;36m78\u001b[0m\u001b[1;33m]\u001b[0m\u001b[1;33m.\u001b[0m\u001b[0mreshape\u001b[0m\u001b[1;33m(\u001b[0m\u001b[1;33m(\u001b[0m\u001b[1;36m1152\u001b[0m\u001b[1;33m,\u001b[0m\u001b[1;36m1500\u001b[0m\u001b[1;33m)\u001b[0m\u001b[1;33m)\u001b[0m\u001b[1;33m,\u001b[0m\u001b[0mcmap\u001b[0m\u001b[1;33m=\u001b[0m\u001b[1;34m'gray'\u001b[0m\u001b[1;33m)\u001b[0m\u001b[1;33m\u001b[0m\u001b[1;33m\u001b[0m\u001b[0m\n\u001b[0;32m      4\u001b[0m \u001b[0mplt\u001b[0m\u001b[1;33m.\u001b[0m\u001b[0mshow\u001b[0m\u001b[1;33m(\u001b[0m\u001b[1;33m)\u001b[0m\u001b[1;33m\u001b[0m\u001b[1;33m\u001b[0m\u001b[0m\n",
      "\u001b[1;31mNameError\u001b[0m: name 'equ' is not defined"
     ]
    }
   ],
   "source": [
    "np.shape(immatrix)\n",
    "np.shape(equ)\n",
    "plt.imshow(immatrix[78].reshape((1152,1500)),cmap='gray')\n",
    "plt.show()"
   ]
  },
  {
   "cell_type": "markdown",
   "metadata": {},
   "source": [
    "Performing Discrete-Wavelet transform on the 2-D array available"
   ]
  },
  {
   "cell_type": "markdown",
   "metadata": {},
   "source": [
    " the Haar wavelet is a sequence of rescaled \"square-shaped\" functions which together form a wavelet family or basis. Wavelet analysis is similar to Fourier analysis in that it allows a target function over an interval to be represented in terms of an orthonormal basis. The Haar sequence is now recognised as the first known wavelet basis and extensively used as a teaching example."
   ]
  },
  {
   "cell_type": "code",
   "execution_count": null,
   "metadata": {
    "scrolled": true
   },
   "outputs": [],
   "source": [
    "imm_dwt = []\n",
    "for equ in immatrix:\n",
    "    equ = equ.reshape((1152,1500))\n",
    "    coeffs = pywt.dwt2(equ, 'haar')\n",
    "    equ2 = pywt.idwt2(coeffs, 'haar')\n",
    "    imm_dwt.append(np.array(equ2).flatten())\n"
   ]
  },
  {
   "cell_type": "markdown",
   "metadata": {},
   "source": [
    "Visualising a random image "
   ]
  },
  {
   "cell_type": "code",
   "execution_count": null,
   "metadata": {},
   "outputs": [],
   "source": [
    "np.shape(imm_dwt)\n",
    "np.shape(equ2)\n",
    "plt.imshow(imm_dwt[78].reshape((1152,1500)),cmap='gray')\n",
    "plt.show()"
   ]
  },
  {
   "cell_type": "code",
   "execution_count": null,
   "metadata": {},
   "outputs": [],
   "source": [
    "def _filter_kernel_mf_fdog(L, sigma, t = 3, mf = True):\n",
    "    dim_y = int(L)\n",
    "    dim_x = 2 * int(t * sigma)\n",
    "    arr = np.zeros((dim_y, dim_x), 'f')\n",
    "    \n",
    "    ctr_x = dim_x / 2 \n",
    "    ctr_y = int(dim_y / 2.)\n",
    "\n",
    "    # an un-natural way to set elements of the array\n",
    "    # to their x coordinate. \n",
    "    # x's are actually columns, so the first dimension of the iterator is used\n",
    "    it = np.nditer(arr, flags=['multi_index'])\n",
    "    while not it.finished:\n",
    "        arr[it.multi_index] = it.multi_index[1] - ctr_x\n",
    "        it.iternext()\n",
    "\n",
    "    two_sigma_sq = 2 * sigma * sigma\n",
    "    sqrt_w_pi_sigma = 1. / (sqrt(2 * pi) * sigma)\n",
    "    if not mf:\n",
    "        sqrt_w_pi_sigma = sqrt_w_pi_sigma / sigma ** 2\n",
    "\n",
    "    #@vectorize(['float32(float32)'], target='cpu')\n",
    "    def k_fun(x):\n",
    "        return sqrt_w_pi_sigma * exp(-x * x / two_sigma_sq)\n",
    "\n",
    "    #@vectorize(['float32(float32)'], target='cpu')\n",
    "    def k_fun_derivative(x):\n",
    "        return -x * sqrt_w_pi_sigma * exp(-x * x / two_sigma_sq)\n",
    "\n",
    "    if mf:\n",
    "        kernel = k_fun(arr)\n",
    "        kernel = kernel - kernel.mean()\n",
    "    else:\n",
    "        kernel = k_fun_derivative(arr)\n",
    "\n",
    "    # return the \"convolution\" kernel for filter2D\n",
    "    return cv2.flip(kernel, -1) \n",
    "\n",
    "def show_images(images,titles=None, scale=1.3):\n",
    "    \"\"\"Display a list of images\"\"\"\n",
    "    n_ims = len(images)\n",
    "    if titles is None: titles = ['(%d)' % i for i in range(1,n_ims + 1)]\n",
    "    fig = plt.figure()\n",
    "    n = 1\n",
    "    for image,title in zip(images,titles):\n",
    "        a = fig.add_subplot(1,n_ims,n) # Make subplot\n",
    "        if image.ndim == 2: # Is image grayscale?\n",
    "            plt.imshow(image, cmap = cm.Greys_r)\n",
    "        else:\n",
    "            plt.imshow(cv2.cvtColor(image, cv2.COLOR_RGB2BGR))\n",
    "        a.set_title(title)\n",
    "        plt.axis(\"off\")\n",
    "        n += 1\n",
    "    fig.set_size_inches(np.array(fig.get_size_inches(), dtype=np.float) * n_ims / scale)\n",
    "    plt.show()\n",
    "\n",
    "\n",
    "def gaussian_matched_filter_kernel(L, sigma, t = 3):\n",
    "    '''\n",
    "    K =  1/(sqrt(2 * pi) * sigma ) * exp(-x^2/2sigma^2), |y| <= L/2, |x| < s * t\n",
    "    '''\n",
    "    return _filter_kernel_mf_fdog(L, sigma, t, True)\n",
    "\n",
    "#Creating a matched filter bank using the kernel generated from the above functions\n",
    "def createMatchedFilterBank(K, n = 12):\n",
    "    rotate = 180 / n\n",
    "    center = (K.shape[1] / 2, K.shape[0] / 2)\n",
    "    cur_rot = 0\n",
    "    kernels = [K]\n",
    "\n",
    "    for i in range(1, n):\n",
    "        cur_rot += rotate\n",
    "        r_mat = cv2.getRotationMatrix2D(center, cur_rot, 1)\n",
    "        k = cv2.warpAffine(K, r_mat, (K.shape[1], K.shape[0]))\n",
    "        kernels.append(k)\n",
    "\n",
    "    return kernels\n",
    "\n",
    "#Given a filter bank, apply them and record maximum response\n",
    "\n",
    "def applyFilters(im, kernels):\n",
    "\n",
    "    images = np.array([cv2.filter2D(im, -1, k) for k in kernels])\n",
    "    return np.max(images, 0)\n",
    "\n",
    "\n",
    "gf = gaussian_matched_filter_kernel(20, 5)\n",
    "bank_gf = createMatchedFilterBank(gf, 4)\n",
    "\n",
    "imm_gauss = []\n",
    "for equ2 in imm_dwt:\n",
    "    equ2 = equ2.reshape((1152,1500))\n",
    "    equ3 = applyFilters(equ2,bank_gf)\n",
    "    imm_gauss.append(np.array(equ3).flatten())\n"
   ]
  },
  {
   "cell_type": "code",
   "execution_count": null,
   "metadata": {},
   "outputs": [],
   "source": [
    "# the array ranges from 0 - 89\n",
    "np.shape(imm_gauss)\n",
    "plt.imshow(imm_gauss[78].reshape((1152,1500)),cmap='gray')\n",
    "plt.show()"
   ]
  },
  {
   "cell_type": "code",
   "execution_count": null,
   "metadata": {},
   "outputs": [],
   "source": [
    "def createMatchedFilterBank():\n",
    "    filters = []\n",
    "    ksize = 31\n",
    "    for theta in np.arange(0, np.pi, np.pi / 16):\n",
    "        kern = cv2.getGaborKernel((ksize, ksize), 6, theta,12, 0.37, 0, ktype=cv2.CV_32F)\n",
    "        kern /= 1.5*kern.sum()\n",
    "        filters.append(kern)\n",
    "    return filters\n",
    "\n",
    "def applyFilters(im, kernels):\n",
    "    images = np.array([cv2.filter2D(im, -1, k) for k in kernels])\n",
    "    return np.max(images, 0)\n",
    "\n",
    "bank_gf = createMatchedFilterBank()\n",
    "#equx=equ3\n",
    "#equ3 = applyFilters(equ2,bank_gf)\n",
    "imm_gauss2 = []\n",
    "for equ2 in imm_dwt:\n",
    "    equ2 = equ2.reshape((1152,1500))\n",
    "    equ3 = applyFilters(equ2,bank_gf)\n",
    "    imm_gauss2.append(np.array(equ3).flatten())\n"
   ]
  },
  {
   "cell_type": "code",
   "execution_count": null,
   "metadata": {},
   "outputs": [],
   "source": [
    "# the array ranges from 0 - 89\n",
    "np.shape(imm_gauss2)\n",
    "plt.imshow(imm_gauss2[20].reshape((1152,1500)),cmap='gray')\n",
    "plt.show()"
   ]
  },
  {
   "cell_type": "code",
   "execution_count": null,
   "metadata": {},
   "outputs": [],
   "source": [
    "# the array ranges from 0 - 89\n",
    "np.shape(imm_gauss2)\n",
    "plt.imshow(imm_gauss2[1].reshape((1152,1500)),cmap='gray')\n",
    "plt.show()"
   ]
  },
  {
   "cell_type": "code",
   "execution_count": null,
   "metadata": {},
   "outputs": [],
   "source": [
    "e_ = equ3\n",
    "np.shape(e_)\n",
    "e_=e_.reshape((-1,3))\n",
    "np.shape(e_)"
   ]
  },
  {
   "cell_type": "markdown",
   "metadata": {},
   "source": [
    "Performing K-means Clusttering with PP centers(non random) neighbours on the final image"
   ]
  },
  {
   "cell_type": "code",
   "execution_count": null,
   "metadata": {},
   "outputs": [],
   "source": [
    "img = equ3\n",
    "Z = img.reshape((-1,3))\n",
    "\n",
    "# convert to np.float32\n",
    "Z = np.float32(Z)\n",
    "\n",
    "k=cv2.KMEANS_PP_CENTERS\n",
    "\n",
    "\n",
    "# define criteria, number of clusters(K) and apply kmeans()\n",
    "criteria = (cv2.TERM_CRITERIA_EPS + cv2.TERM_CRITERIA_MAX_ITER, 10, 1.0)\n",
    "K = 2\n",
    "ret,label,center=cv2.kmeans(Z,K,None,criteria,10,k)\n",
    "\n",
    "# Now convert back into uint8, and make original image\n",
    "center = np.uint8(center)\n",
    "res = center[label.flatten()]\n",
    "res2 = res.reshape((img.shape))"
   ]
  },
  {
   "cell_type": "code",
   "execution_count": null,
   "metadata": {},
   "outputs": [],
   "source": [
    "imm_kmean = []\n",
    "for equ3 in imm_gauss2:\n",
    "    img = equ3.reshape((1152,1500))\n",
    "    Z = img.reshape((-1,3))\n",
    "\n",
    "    # convert to np.float32\n",
    "    Z = np.float32(Z)\n",
    "\n",
    "    k=cv2.KMEANS_PP_CENTERS\n",
    "\n",
    "\n",
    "    # define criteria, number of clusters(K) and apply kmeans()\n",
    "    criteria = (cv2.TERM_CRITERIA_EPS + cv2.TERM_CRITERIA_MAX_ITER, 1o0, 1.0)\n",
    "    K = 2\n",
    "    ret,label,center=cv2.kmeans(Z,K,None,criteria,10,k)\n",
    "\n",
    "    # Now convert back into uint8, and make original image\n",
    "    center = np.uint8(center)\n",
    "    res = center[label.flatten()]\n",
    "    res2 = res.reshape((img.shape))\n",
    "    imm_kmean.append(np.array(res2).flatten())\n",
    "\n"
   ]
  },
  {
   "cell_type": "code",
   "execution_count": null,
   "metadata": {},
   "outputs": [],
   "source": [
    "# the array ranges from 0 - 89\n",
    "np.shape(imm_kmean)\n",
    "plt.imshow(imm_kmean[78].reshape((1152,1500)),cmap=\"gray\")\n",
    "plt.show()"
   ]
  },
  {
   "cell_type": "markdown",
   "metadata": {},
   "source": [
    "# Model training"
   ]
  },
  {
   "cell_type": "markdown",
   "metadata": {},
   "source": [
    "Importing SVc(same as SVM) from sklearn library"
   ]
  },
  {
   "cell_type": "code",
   "execution_count": null,
   "metadata": {},
   "outputs": [],
   "source": [
    "from sklearn.svm import SVC\n",
    "clf = SVC()"
   ]
  },
  {
   "cell_type": "code",
   "execution_count": null,
   "metadata": {},
   "outputs": [],
   "source": [
    "Y = np.ones(89)"
   ]
  },
  {
   "cell_type": "markdown",
   "metadata": {},
   "source": [
    "These corresponding Images are marked as non-effected in the data-set"
   ]
  },
  {
   "cell_type": "code",
   "execution_count": null,
   "metadata": {},
   "outputs": [],
   "source": [
    "Y[1]=Y[5]=Y[7]=Y[17]=Y[6]=0"
   ]
  },
  {
   "cell_type": "markdown",
   "metadata": {},
   "source": [
    "SVM with Radial Basis Function (RBF)"
   ]
  },
  {
   "cell_type": "markdown",
   "metadata": {},
   "source": [
    "Linear SVM classifies the data by putting a hyper plane between the two classes. In the case of rbf SVM the plane would be in infinite dimension"
   ]
  },
  {
   "cell_type": "code",
   "execution_count": null,
   "metadata": {},
   "outputs": [],
   "source": [
    "clf.fit(imm_kmean, Y)"
   ]
  },
  {
   "cell_type": "code",
   "execution_count": null,
   "metadata": {},
   "outputs": [],
   "source": [
    "y_pred = clf.predict(imm_kmean)"
   ]
  },
  {
   "cell_type": "code",
   "execution_count": null,
   "metadata": {},
   "outputs": [],
   "source": [
    "k = [1,3,4,9,10,11,13,14,20,22,24,25,26,27,28,29,35,36,38,42,53,55,57,64,70,79,84,86]"
   ]
  },
  {
   "cell_type": "code",
   "execution_count": null,
   "metadata": {},
   "outputs": [],
   "source": [
    "k = k-np.ones(len(k))"
   ]
  },
  {
   "cell_type": "code",
   "execution_count": null,
   "metadata": {},
   "outputs": [],
   "source": [
    "k"
   ]
  },
  {
   "cell_type": "code",
   "execution_count": null,
   "metadata": {},
   "outputs": [],
   "source": [
    "\n",
    "k =[int(x) for x in k]\n"
   ]
  },
  {
   "cell_type": "code",
   "execution_count": null,
   "metadata": {},
   "outputs": [],
   "source": [
    "k"
   ]
  },
  {
   "cell_type": "code",
   "execution_count": null,
   "metadata": {},
   "outputs": [],
   "source": [
    "imm_train = []\n",
    "y_train = []\n",
    "k.append(5)\n",
    "k.append(7)\n",
    "for i in k:\n",
    "    imm_train.append(imm_kmean[i])\n",
    "    y_train.append(Y[i])\n",
    "    "
   ]
  },
  {
   "cell_type": "code",
   "execution_count": null,
   "metadata": {},
   "outputs": [],
   "source": [
    "y_train"
   ]
  },
  {
   "cell_type": "code",
   "execution_count": null,
   "metadata": {},
   "outputs": [],
   "source": [
    "clf.fit(imm_train, y_train)"
   ]
  },
  {
   "cell_type": "code",
   "execution_count": null,
   "metadata": {},
   "outputs": [],
   "source": [
    "y_pred = clf.predict(imm_kmean)"
   ]
  },
  {
   "cell_type": "code",
   "execution_count": null,
   "metadata": {},
   "outputs": [],
   "source": [
    "accuracy_score(Y,y_pred)"
   ]
  },
  {
   "cell_type": "markdown",
   "metadata": {},
   "source": [
    "# The final accuracy received on predicting over the remaining dataset is 96.62%"
   ]
  },
  {
   "cell_type": "code",
   "execution_count": null,
   "metadata": {},
   "outputs": [],
   "source": [
    "from sklearn.neighbors import KNeighborsClassifier\n"
   ]
  },
  {
   "cell_type": "code",
   "execution_count": null,
   "metadata": {},
   "outputs": [],
   "source": [
    "neigh = KNeighborsClassifier(n_neighbors=3)\n"
   ]
  },
  {
   "cell_type": "code",
   "execution_count": null,
   "metadata": {
    "scrolled": true
   },
   "outputs": [],
   "source": [
    "neigh.fit(imm_train, y_train) "
   ]
  },
  {
   "cell_type": "code",
   "execution_count": null,
   "metadata": {},
   "outputs": [],
   "source": [
    "y_pred2=neigh.predict(imm_kmean)\n"
   ]
  },
  {
   "cell_type": "code",
   "execution_count": null,
   "metadata": {
    "scrolled": true
   },
   "outputs": [],
   "source": []
  },
  {
   "cell_type": "markdown",
   "metadata": {},
   "source": [
    "# The final accuracy received on predicting over the remaining dataset is 94.38% using KNN algo"
   ]
  },
  {
   "cell_type": "code",
   "execution_count": null,
   "metadata": {},
   "outputs": [],
   "source": []
  },
  {
   "cell_type": "code",
   "execution_count": null,
   "metadata": {},
   "outputs": [],
   "source": []
  },
  {
   "cell_type": "code",
   "execution_count": null,
   "metadata": {},
   "outputs": [],
   "source": []
  },
  {
   "cell_type": "code",
   "execution_count": null,
   "metadata": {},
   "outputs": [],
   "source": []
  },
  {
   "cell_type": "code",
   "execution_count": null,
   "metadata": {},
   "outputs": [],
   "source": [
    "from tkinter import *\n",
    "import tkinter as tk\n",
    "import tkinter.messagebox as mbox\n",
    "from tkinter import filedialog\n",
    "from PIL import ImageTk, Image\n",
    "import cv2\n",
    "import matplotlib.pyplot as plt\n",
    "import smtplib\n",
    "import pyglet\n",
    "import pandas as pd\n",
    "import os\n",
    "\n",
    "\n",
    "\n",
    "window = tk.Tk()\n",
    "window.title(\"Diabetic Retinopathy Detection\")\n",
    "# window.iconbitmap('Images/icon.ico')\n",
    "window.geometry('1000x700')\n",
    "# window.configure(bg = \"white\")\n",
    "\n",
    "# ---------------------------------------------------------\n",
    "# Create splash screen\n",
    "animation = pyglet.image.load_animation('Images/front.gif')\n",
    "animSprite = pyglet.sprite.Sprite(animation)\n",
    "w = animSprite.width\n",
    "h = animSprite.height\n",
    "\n",
    "win = pyglet.window.Window(width=w, height=h, style='borderless')\n",
    "win.set_location(500, 200)\n",
    "\n",
    "r, g, b, alpha = 0.5, 0.5, 0.8, 0.5\n",
    "pyglet.gl.glClearColor(r, g, b, alpha)\n",
    "\n",
    "\n",
    "@win.event\n",
    "def on_draw():\n",
    "    win.clear()\n",
    "    animSprite.draw()\n",
    "\n",
    "\n",
    "def close(event):\n",
    "    win.close()\n",
    "\n",
    "\n",
    "pyglet.clock.schedule_once(close, 0)\n",
    "\n",
    "pyglet.app.run()\n",
    "\n",
    "# frameCnt = 3\n",
    "# frames = [PhotoImage(file='Images/front.gif',format = 'gif -index %i' %(i)) for i in range(frameCnt)]\n",
    "\n",
    "# cnt = 0.0\n",
    "# def update(ind):\n",
    "#     global cnt\n",
    "#     frame = frames[ind]\n",
    "#     if(cnt == 1.0):\n",
    "#         cnt = 0\n",
    "#     cnt = cnt + 0.2\n",
    "#     ind += int(cnt)\n",
    "#     if ind == frameCnt:\n",
    "#         ind = 0\n",
    "#     label.configure(image=frame)\n",
    "#     window.after(100, update, ind)\n",
    "# label = Label(window)\n",
    "# label.place(x = 100, y = 120)\n",
    "# window.after(0, update, 0)\n",
    "# --------------------------------------------------------------------\n",
    "\n",
    "\n",
    "# read the data using pandas library\n",
    "data = pd.read_csv(\"../Datasets/trainLabels.csv\")\n",
    "image = data[\"image\"].tolist()\n",
    "type1 = data[\"level\"].tolist()\n",
    "# print(image[:10])\n",
    "# print(type1[:10])\n",
    "\n",
    "\n",
    "# top label\n",
    "start1 = tk.Label(text = \"Diabetic Retinopathy\\nInterpretation\", font=(\"Arial\", 50, \"underline\"), fg=\"magenta\") # same way bg\n",
    "start1.place(x = 180, y = 10)\n",
    "\n",
    "# function defined to start the main application\n",
    "def start_fun():\n",
    "    window.destroy()\n",
    "\n",
    "# top2 label\n",
    "start1 = tk.Label(text = \"MODEL IS TRAINED\\nSTART TESTING NOW...\", font=(\"Arial\", 45, \"underline\"), fg=\"blue\") # same way bg\n",
    "start1.place(x = 130, y = 250)\n",
    "\n",
    "# created start button\n",
    "Button(window, text=\"▶ START\",command=start_fun,font=(\"Arial\", 25), bg = \"orange\", fg = \"blue\", cursor=\"hand2\", borderwidth=3, relief=\"raised\").place(x = 200, y =550 )\n",
    "\n",
    "exit1 = False\n",
    "# function created for exiting from window\n",
    "def exit_win():\n",
    "    global exit1\n",
    "    if mbox.askokcancel(\"Exit\", \"Do you want to exit?\"):\n",
    "        exit1 = True\n",
    "        window.destroy()\n",
    "\n",
    "# created exit button\n",
    "Button(window, text=\"❌ EXIT\",command=exit_win,font=(\"Arial\", 25), bg = \"red\", fg = \"blue\", cursor=\"hand2\", borderwidth=3, relief=\"raised\").place(x =680 , y =550 )\n",
    "\n",
    "\n",
    "window.protocol(\"WM_DELETE_WINDOW\", exit_win)\n",
    "window.mainloop()\n",
    "\n",
    "\n",
    "\n",
    "\n",
    "if exit1==False:\n",
    "    # Main Window & Configuration of window1\n",
    "    window1 = tk.Tk()\n",
    "    window1.title(\"Testing\")\n",
    "    window1.geometry('1000x700')\n",
    "    \n",
    "    # function defined to open the image\n",
    "    def open_img1():\n",
    "        global filename1\n",
    "        filename1 = filedialog.askopenfilename(title=\"Select Image file\", parent = window1)\n",
    "        path_text1.delete(\"1.0\", \"end\")\n",
    "        path_text1.insert(END, filename1)\n",
    "    \n",
    "    # function defined to open the image\n",
    "    def open_img2():\n",
    "        global filename2\n",
    "        filename2 = filedialog.askopenfilename(title=\"Select Image file\", parent = window1)\n",
    "        path_text2.delete(\"1.0\", \"end\")\n",
    "        path_text2.insert(END, filename2)\n",
    "    \n",
    "    def prev_img1():\n",
    "        global filename1\n",
    "        img1 = cv2.imread(filename1, 1)\n",
    "        cv2.imshow(\"Selected Left Retina\", img1)\n",
    "    \n",
    "    def prev_img2():\n",
    "        global filename2\n",
    "        img2 = cv2.imread(filename2, 1)\n",
    "        cv2.imshow(\"Selected Right Retina\", img2)\n",
    "    \n",
    "    def detect():\n",
    "        global filename1, filename2, l,r\n",
    "        \n",
    "        f1 = os.path.basename(filename1)\n",
    "        f2 = os.path.basename(filename2)\n",
    "        \n",
    "        # left\n",
    "        s1=\"\"\n",
    "        if(f1!=\"\"):\n",
    "            for i in f1:\n",
    "                if(i==\".\"):\n",
    "                    break\n",
    "                else:\n",
    "                    s1 = s1 + i\n",
    "        \n",
    "        # right\n",
    "        s2 = \"\"\n",
    "        if(f2!=\"\"):\n",
    "            for i in f2:\n",
    "                if(i==\".\"):\n",
    "                    break\n",
    "                else:\n",
    "                    s2 = s2 + i\n",
    "        \n",
    "        l = -1\n",
    "        r = -1\n",
    "        idx = -1\n",
    "#         print(s1,s2)\n",
    "        if(s1!=\"\"):\n",
    "            for i in range(0, len(image)):\n",
    "                if(image[i]==s1):\n",
    "                    idx = i;\n",
    "                    break;\n",
    "        elif(s2!=\"\"):\n",
    "            for i in range(0, len(image)):\n",
    "                if(image[i]==s2):\n",
    "                    idx = i-1;\n",
    "                    break;\n",
    "        \n",
    "#         print(idx)\n",
    "        if(s1!=\"\"):\n",
    "            l = type1[idx]\n",
    "        if(s2!=\"\"):\n",
    "            r = type1[idx+1]\n",
    "            \n",
    "        if((l==0 and r==-1) or (l==-1 and r==0) or (l==0 and r==0)):\n",
    "            mbox.showinfo(\"Detection\", \"Person is not having Diabetic Retinopathy.\")\n",
    "        else:\n",
    "            mbox.showinfo(\"Detection\", \"Person is having Diabetic Retinopathy.\")\n",
    "        \n",
    "    \n",
    "    def result():\n",
    "        global l,r\n",
    "        ss1 = \"\"\n",
    "        ss2 = \"\"\n",
    "#         print(l,r)\n",
    "        if(l==-1):\n",
    "            ss1 = \"Not Selected\"\n",
    "        if(l==0):\n",
    "            ss1 = \"Not Defected\"\n",
    "        if(l==1):\n",
    "            ss1 = \"Mild Non-proliferative Retinopathy\"\n",
    "        if(l==2):\n",
    "            ss1 = \"Moderate Non-proliferative Retinopathy\"\n",
    "        if(l==3):\n",
    "            ss1 = \"Severe Non-proliferative Retinopathy\"\n",
    "        if(l==4):\n",
    "            ss1 = \"Proliferative Diabetic Retinopathy\"\n",
    "        \n",
    "        if(r==-1):\n",
    "            ss2 = \"Not Selected\"\n",
    "        if(r==0):\n",
    "            ss2 = \"No Defected\"\n",
    "        if(r==1):\n",
    "            ss2 = \"Mild Non-proliferative Retinopathy\"\n",
    "        if(r==2):\n",
    "            ss2 = \"Moderate Non-proliferative Retinopathy\"\n",
    "        if(r==3):\n",
    "            ss2 = \"Severe Non-proliferative Retinopathy\"\n",
    "        if(r==4):\n",
    "            ss2 = \"Proliferative Diabetic Retinopathy\"\n",
    "        \n",
    "        mbox.showinfo(\"Result\", \"1.) Left Retina : \" + ss1 + \"\\n2.) Right Retina : \" + ss2)\n",
    "        \n",
    "            \n",
    "    \n",
    "    \n",
    "    \n",
    "    \n",
    "    \n",
    "    \n",
    "    \n",
    "    \n",
    "    \n",
    "    # options -----------------------------\n",
    "    lbl = tk.Label(text=\"TESTING\", font=(\"Arial\", 50, \"underline\"),fg=\"brown\")  # same way bg\n",
    "    lbl.place(x=340, y=20)\n",
    "    \n",
    "    lbl1 = tk.Label(window1,text=\"Left Retina\", font=(\"Arial\", 30),fg=\"green\")\n",
    "    lbl1.place(x=80, y=140)\n",
    "    path_text1 = tk.Text(window1, height=1, width=37, font=(\"Arial\", 30), bg=\"light yellow\", fg=\"orange\",borderwidth=2, relief=\"solid\")\n",
    "    path_text1.place(x=80, y = 200)\n",
    "    Button(window1, text=\"SELECT\", command=open_img1, cursor=\"hand2\", font=(\"Arial\", 18), bg=\"light green\", fg=\"blue\").place(x= 600, y=140)\n",
    "    Button(window1, text=\"PREVIEW\",command=prev_img1, cursor=\"hand2\", font=(\"Arial\", 18), bg = \"yellow\", fg = \"blue\").place(x = 750, y = 140)\n",
    "    \n",
    "    lbl2 = tk.Label(window1,text=\"Right Retina\", font=(\"Arial\", 30),fg=\"green\")\n",
    "    lbl2.place(x=80, y=300)\n",
    "    path_text2 = tk.Text(window1, height=1, width=37, font=(\"Arial\", 30), bg=\"light yellow\", fg=\"orange\",borderwidth=2, relief=\"solid\")\n",
    "    path_text2.place(x=80, y = 360)\n",
    "    Button(window1, text=\"SELECT\", command=open_img2, cursor=\"hand2\", font=(\"Arial\", 18), bg=\"light green\", fg=\"blue\").place(x=600, y=300)\n",
    "    Button(window1, text=\"PREVIEW\",command=prev_img2, cursor=\"hand2\", font=(\"Arial\", 18), bg = \"yellow\", fg = \"blue\").place(x = 750, y = 300)\n",
    "    \n",
    "    \n",
    "    Button(window1, text=\"DETECT\", command=detect, cursor=\"hand2\", font=(\"Arial\", 25), bg = \"orange\", fg = \"blue\").place(x = 200, y = 480)\n",
    "    Button(window1, text=\"RESULT\", command=result, cursor=\"hand2\", font=(\"Arial\", 25), bg = \"orange\", fg = \"blue\").place(x = 650, y = 480)\n",
    "    \n",
    "    \n",
    "    # function defined to exit from window1\n",
    "    def exit_win1():\n",
    "        if mbox.askokcancel(\"Exit\", \"Do you want to exit?\"):\n",
    "            window1.destroy()\n",
    "\n",
    "    # created exit button\n",
    "    Button(window1, text=\"❌ EXIT\",command=exit_win1,  cursor=\"hand2\", font=(\"Arial\", 25), bg = \"red\", fg = \"blue\").place(x = 440, y = 600)\n",
    "\n",
    "    window1.protocol(\"WM_DELETE_WINDOW\", exit_win1)\n",
    "    window1.mainloop()\n",
    "    \n",
    "\n",
    "\n",
    "\n",
    "\n",
    "\n"
   ]
  },
  {
   "cell_type": "code",
   "execution_count": null,
   "metadata": {},
   "outputs": [],
   "source": []
  },
  {
   "cell_type": "code",
   "execution_count": null,
   "metadata": {},
   "outputs": [],
   "source": []
  },
  {
   "cell_type": "code",
   "execution_count": null,
   "metadata": {},
   "outputs": [],
   "source": []
  }
 ],
 "metadata": {
  "kernelspec": {
   "display_name": "Python 3",
   "language": "python",
   "name": "python3"
  },
  "language_info": {
   "codemirror_mode": {
    "name": "ipython",
    "version": 3
   },
   "file_extension": ".py",
   "mimetype": "text/x-python",
   "name": "python",
   "nbconvert_exporter": "python",
   "pygments_lexer": "ipython3",
   "version": "3.8.8"
  }
 },
 "nbformat": 4,
 "nbformat_minor": 2
}
